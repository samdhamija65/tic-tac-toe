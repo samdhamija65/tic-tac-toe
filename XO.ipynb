{
 "metadata": {
  "language_info": {
   "codemirror_mode": {
    "name": "ipython",
    "version": 3
   },
   "file_extension": ".py",
   "mimetype": "text/x-python",
   "name": "python",
   "nbconvert_exporter": "python",
   "pygments_lexer": "ipython3",
   "version": "3.8.4-candidate"
  },
  "orig_nbformat": 2,
  "kernelspec": {
   "name": "Python 3.8.4 64-bit",
   "display_name": "Python 3.8.4 64-bit",
   "metadata": {
    "interpreter": {
     "hash": "2d8329dd770001397205cd8e169231b86da42c32c067d0acbe3b55c40d31f713"
    }
   }
  }
 },
 "nbformat": 4,
 "nbformat_minor": 2,
 "cells": [
  {
   "cell_type": "code",
   "execution_count": 13,
   "metadata": {
    "tags": []
   },
   "outputs": [],
   "source": [
    "import pygame as pg,sys\n",
    "from pygame.locals import *\n",
    "import time"
   ]
  },
  {
   "cell_type": "code",
   "execution_count": 14,
   "metadata": {},
   "outputs": [],
   "source": [
    "XO='x'\n",
    "winner=None\n",
    "draw=False\n",
    "width=400\n",
    "height=400\n",
    "white=(255,255,255)\n",
    "line_color=(10,10,10)\n",
    "\n",
    "#TicTacToe 3x3 board\n",
    "TTT=[[None]*3,[None]*3,[None]*3]"
   ]
  },
  {
   "cell_type": "code",
   "execution_count": 15,
   "metadata": {
    "tags": []
   },
   "outputs": [],
   "source": [
    "pg.init()\n",
    "fps=30\n",
    "CLOCK=pg.time.Clock()\n",
    "screen=pg.display.set_mode((width,height+100),0,32)\n",
    "pg.display.set_caption('Tic Tac Toe')"
   ]
  },
  {
   "cell_type": "code",
   "execution_count": 16,
   "metadata": {
    "tags": []
   },
   "outputs": [],
   "source": [
    "opening=pg.image.load('C:/Users/samdh/Documents/VS Code/white.jpg')\n",
    "x=pg.image.load('C:/Users/samdh/Documents/VS Code/x.png')\n",
    "y=pg.image.load('C:/Users/samdh/Documents/VS Code/O.png')\n",
    "\n",
    "x=pg.transform.scale(x,(80,80))\n",
    "y=pg.transform.scale(y,(80,80))\n",
    "opening=pg.transform.scale(opening,(width,height+100))"
   ]
  },
  {
   "cell_type": "code",
   "execution_count": 17,
   "metadata": {},
   "outputs": [],
   "source": [
    "def game_opening():\n",
    "    screen.blit(opening,(0,0))\n",
    "    pg.display.update()\n",
    "    time.sleep(1)\n",
    "    screen.fill(white)\n",
    "    \n",
    "    #Vertical lines\n",
    "    pg.draw.line(screen,line_color,(width/3,0),(width/3,height),7)\n",
    "    pg.draw.line(screen,line_color,(width/3*2,0),(width/3*2,height),7)\n",
    "\n",
    "    #Horizontal lines\n",
    "    pg.draw.line(screen,line_color,(0,height/3),(width,height/3),7)\n",
    "    pg.draw.line(screen,line_color,(0,height/3*2),(width,height/3*2),7)\n",
    "    draw_status()\n"
   ]
  },
  {
   "cell_type": "code",
   "execution_count": 18,
   "metadata": {},
   "outputs": [],
   "source": [
    "def draw_status():\n",
    "    global draw,winner\n",
    "\n",
    "    if winner is None:\n",
    "        msg=XO.upper() + \" 's Turn\"\n",
    "    else:\n",
    "        msg=winner.upper() + \" won!\"\n",
    "    if draw:\n",
    "        msg= ' Game Draw!'\n",
    "    \n",
    "    font=pg.font.Font(None,30)\n",
    "    text=font.render(msg,1,(255,255,255))\n",
    "\n",
    "    #Copying rendered msg onto the board\n",
    "    screen.fill((0,0,0),(0,400,500,100))\n",
    "    text_rect=text.get_rect(center=(width/2,500-50))\n",
    "    screen.blit(text,text_rect)\n",
    "    pg.display.update()"
   ]
  },
  {
   "cell_type": "code",
   "execution_count": 19,
   "metadata": {},
   "outputs": [],
   "source": [
    "def  check_win():\n",
    "    global TTT, winner,draw\n",
    "\n",
    "    for row in range(0,3):\n",
    "        if ((TTT[row][0]==TTT[row][1]==TTT[row][2]) and (TTT[row][0] is not None)):\n",
    "            winner=TTT[row][0]\n",
    "            pg.draw.line(screen,(250,0,0), (0, (row+1)*height/3-height/6), (width, (row+1)*height/3-height/6) ,4)\n",
    "            break\n",
    "\n",
    "    #case 2\n",
    "    for col in range(0,3):\n",
    "        if ((TTT[0][col]==TTT[1][col]==TTT[2][col]) and (TTT[0][col] is not None)):\n",
    "            winner = TTT[0][col]\n",
    "            pg.draw.line(screen,(250,0,0),((col+1)* width/3 - width/6 ,0),( (col+1)*width/3 - width/6, height) ,4)\n",
    "            break\n",
    "\n",
    "    # Diagonal winners:\n",
    "    if (TTT[0][0]==TTT[1][1]==TTT[2][2]) and (TTT[0][0] is not None):\n",
    "        winner = TTT[0][0]\n",
    "        pg.draw.line (screen, (250,70,70), (50,50), (350,350), 4)\n",
    "\n",
    "    if (TTT[0][2]==TTT[1][1]==TTT[2][0]) and (TTT[0][2] is not None):\n",
    "        winner = TTT[0][2]\n",
    "        pg.draw.line (screen, (250,70,70), (350,50), (50,350), 4)\n",
    "\n",
    "    if (all([all(row) for row in TTT]) and winner is None):\n",
    "        draw=True\n",
    "\n",
    "    draw_status()\n"
   ]
  },
  {
   "cell_type": "code",
   "execution_count": 20,
   "metadata": {},
   "outputs": [],
   "source": [
    "def drawXO(row,col):\n",
    "    global TTT,XO\n",
    "    if row==1:\n",
    "        posx = 30\n",
    "    if row==2:\n",
    "        posx = width/3 +30\n",
    "    if row==3:\n",
    "        posx = width/3*2 + 30\n",
    "    \n",
    "    if col==1:\n",
    "        posy = 30\n",
    "    if col==2:\n",
    "        posy = height/3 + 30\n",
    "    if col==3:\n",
    "        posy = height/3*2 + 30\n",
    "        \n",
    "    TTT[row-1][col-1] = XO\n",
    "    if (XO =='x'):\n",
    "        screen.blit(x,(posy,posx))\n",
    "        XO='o'\n",
    "    else:\n",
    "        screen.blit(y,(posy,posx))\n",
    "        XO='x'\n",
    "    pg.display.update()\n",
    "    print(posy,posx)\n",
    "    print(TTT)"
   ]
  },
  {
   "cell_type": "code",
   "execution_count": 21,
   "metadata": {},
   "outputs": [],
   "source": [
    "def userclick():\n",
    "    #postion tracking\n",
    "    x,y = pg.mouse.get_pos()\n",
    "\n",
    "    #get column of mouse click (1-3)\n",
    "    if (x < width/3):\n",
    "        col = 1\n",
    "    elif (x < width/3*2):\n",
    "        col=2\n",
    "    elif (x < width):\n",
    "        col = 3\n",
    "    else:\n",
    "        col = None\n",
    "\n",
    "    #get row\n",
    "    if (y < height/3):\n",
    "        row = 1\n",
    "    elif (y < height/3*2):\n",
    "        row = 2\n",
    "    elif (y<height):\n",
    "        row = 3\n",
    "    else:\n",
    "        row = None\n",
    "\n",
    "    if (row and col and TTT[row-1][col-1] is  None):\n",
    "        global  XO\n",
    "\n",
    "        drawXO(row,col)\n",
    "        check_win()"
   ]
  },
  {
   "cell_type": "code",
   "execution_count": 22,
   "metadata": {},
   "outputs": [],
   "source": [
    "def reset_game():\n",
    "    global TTT, winner, XO, draw\n",
    "    time.sleep(1)\n",
    "    XO='x'\n",
    "    draw=False\n",
    "    winner=None\n",
    "    game_opening()\n",
    "    \n",
    "    TTT=[[None]*3, [None]*3, [None]*3]"
   ]
  },
  {
   "cell_type": "code",
   "execution_count": 12,
   "metadata": {
    "tags": []
   },
   "outputs": [
    {
     "output_type": "error",
     "ename": "error",
     "evalue": "display Surface quit",
     "traceback": [
      "\u001b[1;31m---------------------------------------------------------------------------\u001b[0m",
      "\u001b[1;31merror\u001b[0m                                     Traceback (most recent call last)",
      "\u001b[1;32m<ipython-input-12-dacab485b6a6>\u001b[0m in \u001b[0;36m<module>\u001b[1;34m\u001b[0m\n\u001b[1;32m----> 1\u001b[1;33m \u001b[0mgame_opening\u001b[0m\u001b[1;33m(\u001b[0m\u001b[1;33m)\u001b[0m\u001b[1;33m\u001b[0m\u001b[1;33m\u001b[0m\u001b[0m\n\u001b[0m\u001b[0;32m      2\u001b[0m \u001b[1;33m\u001b[0m\u001b[0m\n\u001b[0;32m      3\u001b[0m \u001b[1;32mwhile\u001b[0m\u001b[1;33m(\u001b[0m\u001b[1;32mTrue\u001b[0m\u001b[1;33m)\u001b[0m\u001b[1;33m:\u001b[0m\u001b[1;33m\u001b[0m\u001b[1;33m\u001b[0m\u001b[0m\n\u001b[0;32m      4\u001b[0m     \u001b[1;32mfor\u001b[0m \u001b[0mevent\u001b[0m \u001b[1;32min\u001b[0m \u001b[0mpg\u001b[0m\u001b[1;33m.\u001b[0m\u001b[0mevent\u001b[0m\u001b[1;33m.\u001b[0m\u001b[0mget\u001b[0m\u001b[1;33m(\u001b[0m\u001b[1;33m)\u001b[0m\u001b[1;33m:\u001b[0m\u001b[1;33m\u001b[0m\u001b[1;33m\u001b[0m\u001b[0m\n\u001b[0;32m      5\u001b[0m         \u001b[1;32mif\u001b[0m \u001b[0mevent\u001b[0m\u001b[1;33m.\u001b[0m\u001b[0mtype\u001b[0m \u001b[1;33m==\u001b[0m \u001b[0mQUIT\u001b[0m\u001b[1;33m:\u001b[0m\u001b[1;33m\u001b[0m\u001b[1;33m\u001b[0m\u001b[0m\n",
      "\u001b[1;32m<ipython-input-5-8c2681e591ec>\u001b[0m in \u001b[0;36mgame_opening\u001b[1;34m()\u001b[0m\n\u001b[0;32m      1\u001b[0m \u001b[1;32mdef\u001b[0m \u001b[0mgame_opening\u001b[0m\u001b[1;33m(\u001b[0m\u001b[1;33m)\u001b[0m\u001b[1;33m:\u001b[0m\u001b[1;33m\u001b[0m\u001b[1;33m\u001b[0m\u001b[0m\n\u001b[1;32m----> 2\u001b[1;33m     \u001b[0mscreen\u001b[0m\u001b[1;33m.\u001b[0m\u001b[0mblit\u001b[0m\u001b[1;33m(\u001b[0m\u001b[0mopening\u001b[0m\u001b[1;33m,\u001b[0m\u001b[1;33m(\u001b[0m\u001b[1;36m0\u001b[0m\u001b[1;33m,\u001b[0m\u001b[1;36m0\u001b[0m\u001b[1;33m)\u001b[0m\u001b[1;33m)\u001b[0m\u001b[1;33m\u001b[0m\u001b[1;33m\u001b[0m\u001b[0m\n\u001b[0m\u001b[0;32m      3\u001b[0m     \u001b[0mpg\u001b[0m\u001b[1;33m.\u001b[0m\u001b[0mdisplay\u001b[0m\u001b[1;33m.\u001b[0m\u001b[0mupdate\u001b[0m\u001b[1;33m(\u001b[0m\u001b[1;33m)\u001b[0m\u001b[1;33m\u001b[0m\u001b[1;33m\u001b[0m\u001b[0m\n\u001b[0;32m      4\u001b[0m     \u001b[0mtime\u001b[0m\u001b[1;33m.\u001b[0m\u001b[0msleep\u001b[0m\u001b[1;33m(\u001b[0m\u001b[1;36m1\u001b[0m\u001b[1;33m)\u001b[0m\u001b[1;33m\u001b[0m\u001b[1;33m\u001b[0m\u001b[0m\n\u001b[0;32m      5\u001b[0m     \u001b[0mscreen\u001b[0m\u001b[1;33m.\u001b[0m\u001b[0mfill\u001b[0m\u001b[1;33m(\u001b[0m\u001b[0mwhite\u001b[0m\u001b[1;33m)\u001b[0m\u001b[1;33m\u001b[0m\u001b[1;33m\u001b[0m\u001b[0m\n",
      "\u001b[1;31merror\u001b[0m: display Surface quit"
     ]
    }
   ],
   "source": [
    "game_opening()\n",
    "\n",
    "while(True):\n",
    "    for event in pg.event.get():\n",
    "        if event.type == QUIT:\n",
    "            pg.quit()\n",
    "            sys.exit()\n",
    "        elif event.type is MOUSEBUTTONDOWN:\n",
    "            #place an x or o as user clicked\n",
    "            userclick()\n",
    "            if (winner or draw):\n",
    "                reset_game()\n",
    "        \n",
    "    pg.display.update()\n",
    "    CLOCK.tick(fps)"
   ]
  },
  {
   "cell_type": "code",
   "execution_count": null,
   "metadata": {},
   "outputs": [],
   "source": []
  }
 ]
}